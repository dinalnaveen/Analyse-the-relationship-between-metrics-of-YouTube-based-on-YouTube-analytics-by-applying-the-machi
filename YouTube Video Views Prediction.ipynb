{
 "cells": [
  {
   "cell_type": "code",
   "execution_count": 1,
   "id": "c6414abd",
   "metadata": {},
   "outputs": [
    {
     "name": "stdout",
     "output_type": "stream",
     "text": [
      "numpy version :  1.21.5\n",
      "pandas version :  1.4.2\n",
      "seaborn version :  0.11.2\n"
     ]
    }
   ],
   "source": [
    "import warnings\n",
    "warnings.filterwarnings('ignore')\n",
    "\n",
    "#import sidetable as stb\n",
    "import numpy as np\n",
    "import pandas as pd\n",
    "import seaborn as sns\n",
    "import matplotlib.pyplot as plt\n",
    "%matplotlib inline\n",
    "\n",
    "\n",
    "print('numpy version : ',np.__version__)\n",
    "print('pandas version : ',pd.__version__)\n",
    "print('seaborn version : ',sns.__version__)"
   ]
  },
  {
   "cell_type": "markdown",
   "id": "4fb92d29",
   "metadata": {},
   "source": [
    "## This Python 3 environment comes with many helpful analytics libraries installed\n",
    "## It is defined by the kaggle/python Docker image: https://github.com/kaggle/docker-python\n",
    "## For example, here's several helpful packages to load"
   ]
  },
  {
   "cell_type": "code",
   "execution_count": 2,
   "id": "d565f169",
   "metadata": {},
   "outputs": [],
   "source": [
    "import numpy as np # linear algebra\n",
    "import pandas as pd # data processing, CSV file I/O (e.g. pd.read_csv)"
   ]
  },
  {
   "cell_type": "markdown",
   "id": "56bb3d7d",
   "metadata": {},
   "source": [
    "## Input data files are available in the read-only \"../input/\" directory\n",
    "## For example, running this (by clicking run or pressing Shift+Enter) will list all files under the input directory"
   ]
  },
  {
   "cell_type": "markdown",
   "id": "0e673737",
   "metadata": {},
   "source": [
    "## Load and Describe Data"
   ]
  },
  {
   "cell_type": "markdown",
   "id": "fb24e849",
   "metadata": {},
   "source": [
    "## Load Data"
   ]
  },
  {
   "cell_type": "code",
   "execution_count": 3,
   "id": "83a26424",
   "metadata": {},
   "outputs": [
    {
     "name": "stdout",
     "output_type": "stream",
     "text": [
      "Defaulting to user installation because normal site-packages is not writeable\n",
      "Requirement already satisfied: openpyxl in c:\\programdata\\anaconda3\\lib\\site-packages (3.0.9)\n",
      "Requirement already satisfied: et-xmlfile in c:\\programdata\\anaconda3\\lib\\site-packages (from openpyxl) (1.1.0)\n"
     ]
    }
   ],
   "source": [
    "!pip install openpyxl"
   ]
  },
  {
   "cell_type": "markdown",
   "id": "9e68b5f1",
   "metadata": {},
   "source": [
    "## load dataset"
   ]
  },
  {
   "cell_type": "code",
   "execution_count": 5,
   "id": "1b9fc5c0",
   "metadata": {},
   "outputs": [],
   "source": [
    "df = pd.read_excel('youtube_statistics.xlsx')"
   ]
  },
  {
   "cell_type": "code",
   "execution_count": 7,
   "id": "662d64d6",
   "metadata": {},
   "outputs": [
    {
     "data": {
      "text/html": [
       "<div>\n",
       "<style scoped>\n",
       "    .dataframe tbody tr th:only-of-type {\n",
       "        vertical-align: middle;\n",
       "    }\n",
       "\n",
       "    .dataframe tbody tr th {\n",
       "        vertical-align: top;\n",
       "    }\n",
       "\n",
       "    .dataframe thead th {\n",
       "        text-align: right;\n",
       "    }\n",
       "</style>\n",
       "<table border=\"1\" class=\"dataframe\">\n",
       "  <thead>\n",
       "    <tr style=\"text-align: right;\">\n",
       "      <th></th>\n",
       "      <th>trending_date</th>\n",
       "      <th>title</th>\n",
       "      <th>channel_title</th>\n",
       "      <th>category_id</th>\n",
       "      <th>publish_time</th>\n",
       "      <th>tags</th>\n",
       "      <th>views</th>\n",
       "      <th>likes</th>\n",
       "      <th>dislikes</th>\n",
       "      <th>comment_count</th>\n",
       "      <th>comments_disabled</th>\n",
       "      <th>ratings_disabled</th>\n",
       "      <th>video_error_or_removed</th>\n",
       "      <th>description</th>\n",
       "      <th>No_tags</th>\n",
       "      <th>desc_len</th>\n",
       "      <th>len_title</th>\n",
       "      <th>publish_date</th>\n",
       "    </tr>\n",
       "  </thead>\n",
       "  <tbody>\n",
       "    <tr>\n",
       "      <th>0</th>\n",
       "      <td>2017-11-14</td>\n",
       "      <td>Sharry Mann: Cute Munda ( Song Teaser) | Parmi...</td>\n",
       "      <td>Lokdhun Punjabi</td>\n",
       "      <td>1</td>\n",
       "      <td>12:20:39</td>\n",
       "      <td>sharry mann|\"sharry mann new song\"|\"sharry man...</td>\n",
       "      <td>1096327</td>\n",
       "      <td>33966</td>\n",
       "      <td>798</td>\n",
       "      <td>882</td>\n",
       "      <td>False</td>\n",
       "      <td>False</td>\n",
       "      <td>False</td>\n",
       "      <td>Presenting Sharry Mann latest Punjabi Song  Cu...</td>\n",
       "      <td>15</td>\n",
       "      <td>920</td>\n",
       "      <td>81</td>\n",
       "      <td>2017-11-12</td>\n",
       "    </tr>\n",
       "    <tr>\n",
       "      <th>1</th>\n",
       "      <td>2017-11-14</td>\n",
       "      <td>पीरियड्स के समय, पेट पर पति करता ऐसा, देखकर दं...</td>\n",
       "      <td>HJ NEWS</td>\n",
       "      <td>25</td>\n",
       "      <td>05:43:56</td>\n",
       "      <td>पीरियड्स के समय|\"पेट पर पति करता ऐसा\"|\"देखकर द...</td>\n",
       "      <td>590101</td>\n",
       "      <td>735</td>\n",
       "      <td>904</td>\n",
       "      <td>0</td>\n",
       "      <td>True</td>\n",
       "      <td>False</td>\n",
       "      <td>False</td>\n",
       "      <td>पीरियड्स के समय, पेट पर पति करता ऐसा, देखकर दं...</td>\n",
       "      <td>19</td>\n",
       "      <td>2232</td>\n",
       "      <td>58</td>\n",
       "      <td>2017-11-13</td>\n",
       "    </tr>\n",
       "    <tr>\n",
       "      <th>2</th>\n",
       "      <td>2017-11-14</td>\n",
       "      <td>Stylish Star Allu Arjun @ ChaySam Wedding Rece...</td>\n",
       "      <td>TFPC</td>\n",
       "      <td>24</td>\n",
       "      <td>15:48:08</td>\n",
       "      <td>Stylish Star Allu Arjun @ ChaySam Wedding Rece...</td>\n",
       "      <td>473988</td>\n",
       "      <td>2011</td>\n",
       "      <td>243</td>\n",
       "      <td>149</td>\n",
       "      <td>False</td>\n",
       "      <td>False</td>\n",
       "      <td>False</td>\n",
       "      <td>Watch Stylish Star Allu Arjun @ ChaySam Weddin...</td>\n",
       "      <td>14</td>\n",
       "      <td>482</td>\n",
       "      <td>58</td>\n",
       "      <td>2017-11-12</td>\n",
       "    </tr>\n",
       "    <tr>\n",
       "      <th>3</th>\n",
       "      <td>2017-11-14</td>\n",
       "      <td>Eruma Saani | Tamil vs English</td>\n",
       "      <td>Eruma Saani</td>\n",
       "      <td>23</td>\n",
       "      <td>07:08:48</td>\n",
       "      <td>Eruma Saani|\"Tamil Comedy Videos\"|\"Films\"|\"Mov...</td>\n",
       "      <td>1242680</td>\n",
       "      <td>70353</td>\n",
       "      <td>1624</td>\n",
       "      <td>2684</td>\n",
       "      <td>False</td>\n",
       "      <td>False</td>\n",
       "      <td>False</td>\n",
       "      <td>This video showcases the difference between pe...</td>\n",
       "      <td>20</td>\n",
       "      <td>263</td>\n",
       "      <td>30</td>\n",
       "      <td>2017-11-12</td>\n",
       "    </tr>\n",
       "    <tr>\n",
       "      <th>4</th>\n",
       "      <td>2017-11-14</td>\n",
       "      <td>why Samantha became EMOTIONAL @ Samantha naga ...</td>\n",
       "      <td>Filmylooks</td>\n",
       "      <td>24</td>\n",
       "      <td>01:14:16</td>\n",
       "      <td>Filmylooks|\"latest news\"|\"telugu movies\"|\"telu...</td>\n",
       "      <td>464015</td>\n",
       "      <td>492</td>\n",
       "      <td>293</td>\n",
       "      <td>66</td>\n",
       "      <td>False</td>\n",
       "      <td>False</td>\n",
       "      <td>False</td>\n",
       "      <td>why Samantha became EMOTIONAL @ Samantha naga ...</td>\n",
       "      <td>11</td>\n",
       "      <td>753</td>\n",
       "      <td>88</td>\n",
       "      <td>2017-11-13</td>\n",
       "    </tr>\n",
       "  </tbody>\n",
       "</table>\n",
       "</div>"
      ],
      "text/plain": [
       "  trending_date                                              title  \\\n",
       "0    2017-11-14  Sharry Mann: Cute Munda ( Song Teaser) | Parmi...   \n",
       "1    2017-11-14  पीरियड्स के समय, पेट पर पति करता ऐसा, देखकर दं...   \n",
       "2    2017-11-14  Stylish Star Allu Arjun @ ChaySam Wedding Rece...   \n",
       "3    2017-11-14                     Eruma Saani | Tamil vs English   \n",
       "4    2017-11-14  why Samantha became EMOTIONAL @ Samantha naga ...   \n",
       "\n",
       "     channel_title  category_id publish_time  \\\n",
       "0  Lokdhun Punjabi            1     12:20:39   \n",
       "1          HJ NEWS           25     05:43:56   \n",
       "2             TFPC           24     15:48:08   \n",
       "3      Eruma Saani           23     07:08:48   \n",
       "4       Filmylooks           24     01:14:16   \n",
       "\n",
       "                                                tags    views  likes  \\\n",
       "0  sharry mann|\"sharry mann new song\"|\"sharry man...  1096327  33966   \n",
       "1  पीरियड्स के समय|\"पेट पर पति करता ऐसा\"|\"देखकर द...   590101    735   \n",
       "2  Stylish Star Allu Arjun @ ChaySam Wedding Rece...   473988   2011   \n",
       "3  Eruma Saani|\"Tamil Comedy Videos\"|\"Films\"|\"Mov...  1242680  70353   \n",
       "4  Filmylooks|\"latest news\"|\"telugu movies\"|\"telu...   464015    492   \n",
       "\n",
       "   dislikes  comment_count  comments_disabled  ratings_disabled  \\\n",
       "0       798            882              False             False   \n",
       "1       904              0               True             False   \n",
       "2       243            149              False             False   \n",
       "3      1624           2684              False             False   \n",
       "4       293             66              False             False   \n",
       "\n",
       "   video_error_or_removed                                        description  \\\n",
       "0                   False  Presenting Sharry Mann latest Punjabi Song  Cu...   \n",
       "1                   False  पीरियड्स के समय, पेट पर पति करता ऐसा, देखकर दं...   \n",
       "2                   False  Watch Stylish Star Allu Arjun @ ChaySam Weddin...   \n",
       "3                   False  This video showcases the difference between pe...   \n",
       "4                   False  why Samantha became EMOTIONAL @ Samantha naga ...   \n",
       "\n",
       "   No_tags  desc_len  len_title publish_date  \n",
       "0       15       920         81   2017-11-12  \n",
       "1       19      2232         58   2017-11-13  \n",
       "2       14       482         58   2017-11-12  \n",
       "3       20       263         30   2017-11-12  \n",
       "4       11       753         88   2017-11-13  "
      ]
     },
     "execution_count": 7,
     "metadata": {},
     "output_type": "execute_result"
    }
   ],
   "source": [
    "df.head()"
   ]
  },
  {
   "cell_type": "markdown",
   "id": "eed03111",
   "metadata": {},
   "source": [
    "## show five random data"
   ]
  },
  {
   "cell_type": "code",
   "execution_count": 8,
   "id": "4e9e1f63",
   "metadata": {},
   "outputs": [
    {
     "data": {
      "text/html": [
       "<div>\n",
       "<style scoped>\n",
       "    .dataframe tbody tr th:only-of-type {\n",
       "        vertical-align: middle;\n",
       "    }\n",
       "\n",
       "    .dataframe tbody tr th {\n",
       "        vertical-align: top;\n",
       "    }\n",
       "\n",
       "    .dataframe thead th {\n",
       "        text-align: right;\n",
       "    }\n",
       "</style>\n",
       "<table border=\"1\" class=\"dataframe\">\n",
       "  <thead>\n",
       "    <tr style=\"text-align: right;\">\n",
       "      <th></th>\n",
       "      <th>trending_date</th>\n",
       "      <th>title</th>\n",
       "      <th>channel_title</th>\n",
       "      <th>category_id</th>\n",
       "      <th>publish_time</th>\n",
       "      <th>tags</th>\n",
       "      <th>views</th>\n",
       "      <th>likes</th>\n",
       "      <th>dislikes</th>\n",
       "      <th>comment_count</th>\n",
       "      <th>comments_disabled</th>\n",
       "      <th>ratings_disabled</th>\n",
       "      <th>video_error_or_removed</th>\n",
       "      <th>description</th>\n",
       "      <th>No_tags</th>\n",
       "      <th>desc_len</th>\n",
       "      <th>len_title</th>\n",
       "      <th>publish_date</th>\n",
       "    </tr>\n",
       "  </thead>\n",
       "  <tbody>\n",
       "    <tr>\n",
       "      <th>27686</th>\n",
       "      <td>2018-04-25</td>\n",
       "      <td>मालिका मसाला । चला हवा येऊ द्या</td>\n",
       "      <td>ZEE 24 TAAS</td>\n",
       "      <td>25</td>\n",
       "      <td>09:30:33</td>\n",
       "      <td>zee24taas|\"marathi video\"|\"marathi news\"|\"Brea...</td>\n",
       "      <td>159647</td>\n",
       "      <td>998</td>\n",
       "      <td>78</td>\n",
       "      <td>12</td>\n",
       "      <td>False</td>\n",
       "      <td>False</td>\n",
       "      <td>False</td>\n",
       "      <td>Malika Masala | Chala Hawa Yeu Dya</td>\n",
       "      <td>18</td>\n",
       "      <td>34</td>\n",
       "      <td>31</td>\n",
       "      <td>2018-04-24</td>\n",
       "    </tr>\n",
       "    <tr>\n",
       "      <th>17329</th>\n",
       "      <td>2018-02-18</td>\n",
       "      <td>सीरीज हारकर कैलिस, पोलाक का दिमाग खराब.. कह दी...</td>\n",
       "      <td>FLAME MEDIA</td>\n",
       "      <td>22</td>\n",
       "      <td>08:18:13</td>\n",
       "      <td>India vs South Africa|\"shaun-pollock-all-prais...</td>\n",
       "      <td>287920</td>\n",
       "      <td>1395</td>\n",
       "      <td>278</td>\n",
       "      <td>176</td>\n",
       "      <td>False</td>\n",
       "      <td>False</td>\n",
       "      <td>False</td>\n",
       "      <td>सीरीज हारकर कैलिस, पोलाक का दिमाग खराब.. कह दी...</td>\n",
       "      <td>20</td>\n",
       "      <td>60</td>\n",
       "      <td>60</td>\n",
       "      <td>2018-02-16</td>\n",
       "    </tr>\n",
       "    <tr>\n",
       "      <th>10462</th>\n",
       "      <td>2018-01-09</td>\n",
       "      <td>Bengali Carryminati? The Bong Guy First QnA Vi...</td>\n",
       "      <td>The Bong Guy</td>\n",
       "      <td>23</td>\n",
       "      <td>13:08:23</td>\n",
       "      <td>the bong guy|\"e kemon cinema\"|\"e kemon gaan\"|\"...</td>\n",
       "      <td>179545</td>\n",
       "      <td>23814</td>\n",
       "      <td>479</td>\n",
       "      <td>2956</td>\n",
       "      <td>False</td>\n",
       "      <td>False</td>\n",
       "      <td>False</td>\n",
       "      <td>Hey guys my name is The Bong Guy\\nThis is my f...</td>\n",
       "      <td>19</td>\n",
       "      <td>315</td>\n",
       "      <td>88</td>\n",
       "      <td>2018-01-06</td>\n",
       "    </tr>\n",
       "    <tr>\n",
       "      <th>10512</th>\n",
       "      <td>2018-01-09</td>\n",
       "      <td>Teasing girls with Bollywood songs  part 3 || ...</td>\n",
       "      <td>Kiraak Hyderabadiz</td>\n",
       "      <td>24</td>\n",
       "      <td>09:30:03</td>\n",
       "      <td>teasing|\"girls\"|\"bollywood\"|\"songs\"|\"part 3\"|\"...</td>\n",
       "      <td>133511</td>\n",
       "      <td>8072</td>\n",
       "      <td>384</td>\n",
       "      <td>939</td>\n",
       "      <td>False</td>\n",
       "      <td>False</td>\n",
       "      <td>False</td>\n",
       "      <td>You loved part one and part two, here is teasi...</td>\n",
       "      <td>14</td>\n",
       "      <td>153</td>\n",
       "      <td>79</td>\n",
       "      <td>2018-01-06</td>\n",
       "    </tr>\n",
       "    <tr>\n",
       "      <th>17154</th>\n",
       "      <td>2018-02-17</td>\n",
       "      <td>Mr. &amp; Mrs. E02 | Biwi Ko Gussa Kyun Aata Hai |...</td>\n",
       "      <td>Girliyapa</td>\n",
       "      <td>22</td>\n",
       "      <td>14:21:02</td>\n",
       "      <td>jokes|\"bosch\"|\"dishwasher\"|\"architect\"|\"wife\"|...</td>\n",
       "      <td>730080</td>\n",
       "      <td>25018</td>\n",
       "      <td>681</td>\n",
       "      <td>1065</td>\n",
       "      <td>False</td>\n",
       "      <td>False</td>\n",
       "      <td>False</td>\n",
       "      <td>For a couple, a dinner party seems like an inn...</td>\n",
       "      <td>42</td>\n",
       "      <td>2082</td>\n",
       "      <td>82</td>\n",
       "      <td>2018-02-13</td>\n",
       "    </tr>\n",
       "  </tbody>\n",
       "</table>\n",
       "</div>"
      ],
      "text/plain": [
       "      trending_date                                              title  \\\n",
       "27686    2018-04-25                    मालिका मसाला । चला हवा येऊ द्या   \n",
       "17329    2018-02-18  सीरीज हारकर कैलिस, पोलाक का दिमाग खराब.. कह दी...   \n",
       "10462    2018-01-09  Bengali Carryminati? The Bong Guy First QnA Vi...   \n",
       "10512    2018-01-09  Teasing girls with Bollywood songs  part 3 || ...   \n",
       "17154    2018-02-17  Mr. & Mrs. E02 | Biwi Ko Gussa Kyun Aata Hai |...   \n",
       "\n",
       "            channel_title  category_id publish_time  \\\n",
       "27686         ZEE 24 TAAS           25     09:30:33   \n",
       "17329         FLAME MEDIA           22     08:18:13   \n",
       "10462        The Bong Guy           23     13:08:23   \n",
       "10512  Kiraak Hyderabadiz           24     09:30:03   \n",
       "17154           Girliyapa           22     14:21:02   \n",
       "\n",
       "                                                    tags   views  likes  \\\n",
       "27686  zee24taas|\"marathi video\"|\"marathi news\"|\"Brea...  159647    998   \n",
       "17329  India vs South Africa|\"shaun-pollock-all-prais...  287920   1395   \n",
       "10462  the bong guy|\"e kemon cinema\"|\"e kemon gaan\"|\"...  179545  23814   \n",
       "10512  teasing|\"girls\"|\"bollywood\"|\"songs\"|\"part 3\"|\"...  133511   8072   \n",
       "17154  jokes|\"bosch\"|\"dishwasher\"|\"architect\"|\"wife\"|...  730080  25018   \n",
       "\n",
       "       dislikes  comment_count  comments_disabled  ratings_disabled  \\\n",
       "27686        78             12              False             False   \n",
       "17329       278            176              False             False   \n",
       "10462       479           2956              False             False   \n",
       "10512       384            939              False             False   \n",
       "17154       681           1065              False             False   \n",
       "\n",
       "       video_error_or_removed  \\\n",
       "27686                   False   \n",
       "17329                   False   \n",
       "10462                   False   \n",
       "10512                   False   \n",
       "17154                   False   \n",
       "\n",
       "                                             description  No_tags  desc_len  \\\n",
       "27686                 Malika Masala | Chala Hawa Yeu Dya       18        34   \n",
       "17329  सीरीज हारकर कैलिस, पोलाक का दिमाग खराब.. कह दी...       20        60   \n",
       "10462  Hey guys my name is The Bong Guy\\nThis is my f...       19       315   \n",
       "10512  You loved part one and part two, here is teasi...       14       153   \n",
       "17154  For a couple, a dinner party seems like an inn...       42      2082   \n",
       "\n",
       "       len_title publish_date  \n",
       "27686         31   2018-04-24  \n",
       "17329         60   2018-02-16  \n",
       "10462         88   2018-01-06  \n",
       "10512         79   2018-01-06  \n",
       "17154         82   2018-02-13  "
      ]
     },
     "execution_count": 8,
     "metadata": {},
     "output_type": "execute_result"
    }
   ],
   "source": [
    "df.sample(5)"
   ]
  },
  {
   "cell_type": "markdown",
   "id": "40fece4b",
   "metadata": {},
   "source": [
    "## Checking Columns and Missing Values With df.info()"
   ]
  },
  {
   "cell_type": "code",
   "execution_count": 9,
   "id": "d6d31406",
   "metadata": {},
   "outputs": [
    {
     "name": "stdout",
     "output_type": "stream",
     "text": [
      "<class 'pandas.core.frame.DataFrame'>\n",
      "RangeIndex: 36791 entries, 0 to 36790\n",
      "Data columns (total 18 columns):\n",
      " #   Column                  Non-Null Count  Dtype         \n",
      "---  ------                  --------------  -----         \n",
      " 0   trending_date           36791 non-null  object        \n",
      " 1   title                   36791 non-null  object        \n",
      " 2   channel_title           36791 non-null  object        \n",
      " 3   category_id             36791 non-null  int64         \n",
      " 4   publish_time            36791 non-null  object        \n",
      " 5   tags                    36791 non-null  object        \n",
      " 6   views                   36791 non-null  int64         \n",
      " 7   likes                   36791 non-null  int64         \n",
      " 8   dislikes                36791 non-null  int64         \n",
      " 9   comment_count           36791 non-null  int64         \n",
      " 10  comments_disabled       36791 non-null  bool          \n",
      " 11  ratings_disabled        36791 non-null  bool          \n",
      " 12  video_error_or_removed  36791 non-null  bool          \n",
      " 13  description             36746 non-null  object        \n",
      " 14  No_tags                 36791 non-null  int64         \n",
      " 15  desc_len                36791 non-null  int64         \n",
      " 16  len_title               36791 non-null  int64         \n",
      " 17  publish_date            36791 non-null  datetime64[ns]\n",
      "dtypes: bool(3), datetime64[ns](1), int64(8), object(6)\n",
      "memory usage: 4.3+ MB\n"
     ]
    }
   ],
   "source": [
    "df.info()"
   ]
  },
  {
   "cell_type": "markdown",
   "id": "1c10e543",
   "metadata": {},
   "source": [
    "## Numeric"
   ]
  },
  {
   "cell_type": "code",
   "execution_count": 14,
   "id": "0b71cf6f",
   "metadata": {
    "scrolled": true
   },
   "outputs": [
    {
     "data": {
      "text/plain": [
       "['category_id',\n",
       " 'views',\n",
       " 'likes',\n",
       " 'dislikes',\n",
       " 'comment_count',\n",
       " 'No_tags',\n",
       " 'desc_len',\n",
       " 'len_title']"
      ]
     },
     "execution_count": 14,
     "metadata": {},
     "output_type": "execute_result"
    }
   ],
   "source": [
    "numeric = df.select_dtypes(include=[np.number]).columns.tolist()\n",
    "numeric"
   ]
  },
  {
   "cell_type": "markdown",
   "id": "0d9cd6fc",
   "metadata": {},
   "source": [
    "## Categorical"
   ]
  },
  {
   "cell_type": "code",
   "execution_count": 15,
   "id": "3010b165",
   "metadata": {},
   "outputs": [
    {
     "data": {
      "text/plain": [
       "['trending_date',\n",
       " 'title',\n",
       " 'channel_title',\n",
       " 'publish_time',\n",
       " 'tags',\n",
       " 'comments_disabled',\n",
       " 'ratings_disabled',\n",
       " 'video_error_or_removed',\n",
       " 'description',\n",
       " 'publish_date']"
      ]
     },
     "execution_count": 15,
     "metadata": {},
     "output_type": "execute_result"
    }
   ],
   "source": [
    "categorical = df.select_dtypes(exclude=[np.number]).columns.tolist()\n",
    "categorical"
   ]
  },
  {
   "cell_type": "markdown",
   "id": "6357d391",
   "metadata": {},
   "source": [
    "## Sampling to Understand Data With df.sample()"
   ]
  }
 ],
 "metadata": {
  "kernelspec": {
   "display_name": "Python 3 (ipykernel)",
   "language": "python",
   "name": "python3"
  },
  "language_info": {
   "codemirror_mode": {
    "name": "ipython",
    "version": 3
   },
   "file_extension": ".py",
   "mimetype": "text/x-python",
   "name": "python",
   "nbconvert_exporter": "python",
   "pygments_lexer": "ipython3",
   "version": "3.9.12"
  }
 },
 "nbformat": 4,
 "nbformat_minor": 5
}
