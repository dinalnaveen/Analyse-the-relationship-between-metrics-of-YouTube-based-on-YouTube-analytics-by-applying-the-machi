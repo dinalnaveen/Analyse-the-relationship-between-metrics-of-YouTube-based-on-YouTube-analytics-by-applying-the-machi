{
 "cells": [
  {
   "cell_type": "code",
   "execution_count": 1,
   "id": "c6414abd",
   "metadata": {},
   "outputs": [
    {
     "name": "stdout",
     "output_type": "stream",
     "text": [
      "numpy version :  1.21.5\n",
      "pandas version :  1.4.2\n",
      "seaborn version :  0.11.2\n"
     ]
    }
   ],
   "source": [
    "import warnings\n",
    "warnings.filterwarnings('ignore')\n",
    "\n",
    "#import sidetable as stb\n",
    "import numpy as np\n",
    "import pandas as pd\n",
    "import seaborn as sns\n",
    "import matplotlib.pyplot as plt\n",
    "%matplotlib inline\n",
    "\n",
    "\n",
    "print('numpy version : ',np.__version__)\n",
    "print('pandas version : ',pd.__version__)\n",
    "print('seaborn version : ',sns.__version__)"
   ]
  },
  {
   "cell_type": "markdown",
   "id": "4e22efd4",
   "metadata": {},
   "source": [
    "## This Python 3 environment comes with many helpful analytics libraries installed\n",
    "## It is defined by the kaggle/python Docker image: https://github.com/kaggle/docker-python\n",
    "## For example, here's several helpful packages to load"
   ]
  },
  {
   "cell_type": "code",
   "execution_count": 2,
   "id": "25d39124",
   "metadata": {},
   "outputs": [],
   "source": [
    "import numpy as np # linear algebra\n",
    "import pandas as pd # data processing, CSV file I/O (e.g. pd.read_csv)"
   ]
  },
  {
   "cell_type": "markdown",
   "id": "238fed6b",
   "metadata": {},
   "source": [
    "## Input data files are available in the read-only \"../input/\" directory\n",
    "## For example, running this (by clicking run or pressing Shift+Enter) will list all files under the input directory"
   ]
  },
  {
   "cell_type": "markdown",
   "id": "2856435a",
   "metadata": {},
   "source": [
    "## Load and Describe Data"
   ]
  },
  {
   "cell_type": "markdown",
   "id": "ee9458fc",
   "metadata": {},
   "source": [
    "## Load Data"
   ]
  },
  {
   "cell_type": "code",
   "execution_count": 3,
   "id": "83a26424",
   "metadata": {},
   "outputs": [
    {
     "name": "stdout",
     "output_type": "stream",
     "text": [
      "Defaulting to user installation because normal site-packages is not writeable\n",
      "Requirement already satisfied: openpyxl in c:\\programdata\\anaconda3\\lib\\site-packages (3.0.9)\n",
      "Requirement already satisfied: et-xmlfile in c:\\programdata\\anaconda3\\lib\\site-packages (from openpyxl) (1.1.0)\n"
     ]
    }
   ],
   "source": [
    "!pip install openpyxl"
   ]
  },
  {
   "cell_type": "markdown",
   "id": "9c6fac6c",
   "metadata": {},
   "source": [
    "## load dataset"
   ]
  },
  {
   "cell_type": "code",
   "execution_count": 5,
   "id": "ee4c4cf4",
   "metadata": {},
   "outputs": [],
   "source": [
    "df = pd.read_excel('youtube_statistics.xlsx')"
   ]
  },
  {
   "cell_type": "code",
   "execution_count": 7,
   "id": "e25677b0",
   "metadata": {},
   "outputs": [
    {
     "data": {
      "text/html": [
       "<div>\n",
       "<style scoped>\n",
       "    .dataframe tbody tr th:only-of-type {\n",
       "        vertical-align: middle;\n",
       "    }\n",
       "\n",
       "    .dataframe tbody tr th {\n",
       "        vertical-align: top;\n",
       "    }\n",
       "\n",
       "    .dataframe thead th {\n",
       "        text-align: right;\n",
       "    }\n",
       "</style>\n",
       "<table border=\"1\" class=\"dataframe\">\n",
       "  <thead>\n",
       "    <tr style=\"text-align: right;\">\n",
       "      <th></th>\n",
       "      <th>trending_date</th>\n",
       "      <th>title</th>\n",
       "      <th>channel_title</th>\n",
       "      <th>category_id</th>\n",
       "      <th>publish_time</th>\n",
       "      <th>tags</th>\n",
       "      <th>views</th>\n",
       "      <th>likes</th>\n",
       "      <th>dislikes</th>\n",
       "      <th>comment_count</th>\n",
       "      <th>comments_disabled</th>\n",
       "      <th>ratings_disabled</th>\n",
       "      <th>video_error_or_removed</th>\n",
       "      <th>description</th>\n",
       "      <th>No_tags</th>\n",
       "      <th>desc_len</th>\n",
       "      <th>len_title</th>\n",
       "      <th>publish_date</th>\n",
       "    </tr>\n",
       "  </thead>\n",
       "  <tbody>\n",
       "    <tr>\n",
       "      <th>0</th>\n",
       "      <td>2017-11-14</td>\n",
       "      <td>Sharry Mann: Cute Munda ( Song Teaser) | Parmi...</td>\n",
       "      <td>Lokdhun Punjabi</td>\n",
       "      <td>1</td>\n",
       "      <td>12:20:39</td>\n",
       "      <td>sharry mann|\"sharry mann new song\"|\"sharry man...</td>\n",
       "      <td>1096327</td>\n",
       "      <td>33966</td>\n",
       "      <td>798</td>\n",
       "      <td>882</td>\n",
       "      <td>False</td>\n",
       "      <td>False</td>\n",
       "      <td>False</td>\n",
       "      <td>Presenting Sharry Mann latest Punjabi Song  Cu...</td>\n",
       "      <td>15</td>\n",
       "      <td>920</td>\n",
       "      <td>81</td>\n",
       "      <td>2017-11-12</td>\n",
       "    </tr>\n",
       "    <tr>\n",
       "      <th>1</th>\n",
       "      <td>2017-11-14</td>\n",
       "      <td>पीरियड्स के समय, पेट पर पति करता ऐसा, देखकर दं...</td>\n",
       "      <td>HJ NEWS</td>\n",
       "      <td>25</td>\n",
       "      <td>05:43:56</td>\n",
       "      <td>पीरियड्स के समय|\"पेट पर पति करता ऐसा\"|\"देखकर द...</td>\n",
       "      <td>590101</td>\n",
       "      <td>735</td>\n",
       "      <td>904</td>\n",
       "      <td>0</td>\n",
       "      <td>True</td>\n",
       "      <td>False</td>\n",
       "      <td>False</td>\n",
       "      <td>पीरियड्स के समय, पेट पर पति करता ऐसा, देखकर दं...</td>\n",
       "      <td>19</td>\n",
       "      <td>2232</td>\n",
       "      <td>58</td>\n",
       "      <td>2017-11-13</td>\n",
       "    </tr>\n",
       "    <tr>\n",
       "      <th>2</th>\n",
       "      <td>2017-11-14</td>\n",
       "      <td>Stylish Star Allu Arjun @ ChaySam Wedding Rece...</td>\n",
       "      <td>TFPC</td>\n",
       "      <td>24</td>\n",
       "      <td>15:48:08</td>\n",
       "      <td>Stylish Star Allu Arjun @ ChaySam Wedding Rece...</td>\n",
       "      <td>473988</td>\n",
       "      <td>2011</td>\n",
       "      <td>243</td>\n",
       "      <td>149</td>\n",
       "      <td>False</td>\n",
       "      <td>False</td>\n",
       "      <td>False</td>\n",
       "      <td>Watch Stylish Star Allu Arjun @ ChaySam Weddin...</td>\n",
       "      <td>14</td>\n",
       "      <td>482</td>\n",
       "      <td>58</td>\n",
       "      <td>2017-11-12</td>\n",
       "    </tr>\n",
       "    <tr>\n",
       "      <th>3</th>\n",
       "      <td>2017-11-14</td>\n",
       "      <td>Eruma Saani | Tamil vs English</td>\n",
       "      <td>Eruma Saani</td>\n",
       "      <td>23</td>\n",
       "      <td>07:08:48</td>\n",
       "      <td>Eruma Saani|\"Tamil Comedy Videos\"|\"Films\"|\"Mov...</td>\n",
       "      <td>1242680</td>\n",
       "      <td>70353</td>\n",
       "      <td>1624</td>\n",
       "      <td>2684</td>\n",
       "      <td>False</td>\n",
       "      <td>False</td>\n",
       "      <td>False</td>\n",
       "      <td>This video showcases the difference between pe...</td>\n",
       "      <td>20</td>\n",
       "      <td>263</td>\n",
       "      <td>30</td>\n",
       "      <td>2017-11-12</td>\n",
       "    </tr>\n",
       "    <tr>\n",
       "      <th>4</th>\n",
       "      <td>2017-11-14</td>\n",
       "      <td>why Samantha became EMOTIONAL @ Samantha naga ...</td>\n",
       "      <td>Filmylooks</td>\n",
       "      <td>24</td>\n",
       "      <td>01:14:16</td>\n",
       "      <td>Filmylooks|\"latest news\"|\"telugu movies\"|\"telu...</td>\n",
       "      <td>464015</td>\n",
       "      <td>492</td>\n",
       "      <td>293</td>\n",
       "      <td>66</td>\n",
       "      <td>False</td>\n",
       "      <td>False</td>\n",
       "      <td>False</td>\n",
       "      <td>why Samantha became EMOTIONAL @ Samantha naga ...</td>\n",
       "      <td>11</td>\n",
       "      <td>753</td>\n",
       "      <td>88</td>\n",
       "      <td>2017-11-13</td>\n",
       "    </tr>\n",
       "  </tbody>\n",
       "</table>\n",
       "</div>"
      ],
      "text/plain": [
       "  trending_date                                              title  \\\n",
       "0    2017-11-14  Sharry Mann: Cute Munda ( Song Teaser) | Parmi...   \n",
       "1    2017-11-14  पीरियड्स के समय, पेट पर पति करता ऐसा, देखकर दं...   \n",
       "2    2017-11-14  Stylish Star Allu Arjun @ ChaySam Wedding Rece...   \n",
       "3    2017-11-14                     Eruma Saani | Tamil vs English   \n",
       "4    2017-11-14  why Samantha became EMOTIONAL @ Samantha naga ...   \n",
       "\n",
       "     channel_title  category_id publish_time  \\\n",
       "0  Lokdhun Punjabi            1     12:20:39   \n",
       "1          HJ NEWS           25     05:43:56   \n",
       "2             TFPC           24     15:48:08   \n",
       "3      Eruma Saani           23     07:08:48   \n",
       "4       Filmylooks           24     01:14:16   \n",
       "\n",
       "                                                tags    views  likes  \\\n",
       "0  sharry mann|\"sharry mann new song\"|\"sharry man...  1096327  33966   \n",
       "1  पीरियड्स के समय|\"पेट पर पति करता ऐसा\"|\"देखकर द...   590101    735   \n",
       "2  Stylish Star Allu Arjun @ ChaySam Wedding Rece...   473988   2011   \n",
       "3  Eruma Saani|\"Tamil Comedy Videos\"|\"Films\"|\"Mov...  1242680  70353   \n",
       "4  Filmylooks|\"latest news\"|\"telugu movies\"|\"telu...   464015    492   \n",
       "\n",
       "   dislikes  comment_count  comments_disabled  ratings_disabled  \\\n",
       "0       798            882              False             False   \n",
       "1       904              0               True             False   \n",
       "2       243            149              False             False   \n",
       "3      1624           2684              False             False   \n",
       "4       293             66              False             False   \n",
       "\n",
       "   video_error_or_removed                                        description  \\\n",
       "0                   False  Presenting Sharry Mann latest Punjabi Song  Cu...   \n",
       "1                   False  पीरियड्स के समय, पेट पर पति करता ऐसा, देखकर दं...   \n",
       "2                   False  Watch Stylish Star Allu Arjun @ ChaySam Weddin...   \n",
       "3                   False  This video showcases the difference between pe...   \n",
       "4                   False  why Samantha became EMOTIONAL @ Samantha naga ...   \n",
       "\n",
       "   No_tags  desc_len  len_title publish_date  \n",
       "0       15       920         81   2017-11-12  \n",
       "1       19      2232         58   2017-11-13  \n",
       "2       14       482         58   2017-11-12  \n",
       "3       20       263         30   2017-11-12  \n",
       "4       11       753         88   2017-11-13  "
      ]
     },
     "execution_count": 7,
     "metadata": {},
     "output_type": "execute_result"
    }
   ],
   "source": [
    "df.head()"
   ]
  },
  {
   "cell_type": "markdown",
   "id": "57e7f8ad",
   "metadata": {},
   "source": [
    "## show five random data"
   ]
  },
  {
   "cell_type": "code",
   "execution_count": null,
   "id": "ecae6127",
   "metadata": {},
   "outputs": [],
   "source": []
  }
 ],
 "metadata": {
  "kernelspec": {
   "display_name": "Python 3 (ipykernel)",
   "language": "python",
   "name": "python3"
  },
  "language_info": {
   "codemirror_mode": {
    "name": "ipython",
    "version": 3
   },
   "file_extension": ".py",
   "mimetype": "text/x-python",
   "name": "python",
   "nbconvert_exporter": "python",
   "pygments_lexer": "ipython3",
   "version": "3.9.12"
  }
 },
 "nbformat": 4,
 "nbformat_minor": 5
}
